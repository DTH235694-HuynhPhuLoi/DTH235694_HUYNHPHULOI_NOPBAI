{
 "cells": [
  {
   "cell_type": "code",
   "execution_count": null,
   "id": "12fc52ee",
   "metadata": {},
   "outputs": [
    {
     "name": "stdout",
     "output_type": "stream",
     "text": [
      "Chu vi = 12.566370614359172\n",
      "Diện tích= 4.0\n"
     ]
    }
   ],
   "source": [
    "#BAI1 Tính chu vi và diện tích hình tròn\n",
    "import math\n",
    "\n",
    "try:\n",
    "    r=float(input(\"Mời bạn nhập bán kính hình tròn:\"))\n",
    "    cv=2*math.pi*r\n",
    "    dt=r**2\n",
    "    print(\"Chu vi =\",cv)\n",
    "    print(\"Diện tích=\",dt)\n",
    "except:\n",
    "    print(\"Lỗi rồi!\")\n",
    "\n"
   ]
  },
  {
   "cell_type": "code",
   "execution_count": 6,
   "id": "3b0c3de8",
   "metadata": {},
   "outputs": [
    {
     "name": "stdout",
     "output_type": "stream",
     "text": [
      "6 giờ 10 phút 22 giây\n"
     ]
    }
   ],
   "source": [
    "#BAI2\n",
    "t=int(input(\"Mời bạn nhập số giây: \"))\n",
    "g=t//3600\n",
    "p=(t%3600)//60\n",
    "s=t%60\n",
    "print(g,\"giờ\",p,\"phút\",s,\"giây\")"
   ]
  },
  {
   "cell_type": "code",
   "execution_count": null,
   "id": "8f035743",
   "metadata": {},
   "outputs": [
    {
     "name": "stdout",
     "output_type": "stream",
     "text": [
      "Điểm trung bình= 6.666666666666667\n",
      "Điểm làm tròn 6.67\n"
     ]
    }
   ],
   "source": [
    "#BAI3\n",
    "toan=float(input(\"Mời bạn nhập điểm toán:\"))\n",
    "ly=float(input(\"Mời bạn nhập điểm lý:\"))\n",
    "hoa=float(input(\"Mời bạn nhập điểm hóa:\"))\n",
    "dtb=(toan+ly+hoa)/3\n",
    "print(\"Điểm trung bình=\",dtb)\n",
    "print(\"Điểm làm tròn\",round(dtb,2))"
   ]
  },
  {
   "cell_type": "code",
   "execution_count": null,
   "id": "7ac93473",
   "metadata": {},
   "outputs": [],
   "source": [
    "#BAI4 \n",
    "'''\n",
    "Python hỗ trợ các kiểu dữ liệu cơ bản sau:\n",
    "\n",
    "int: Số nguyên (ví dụ: 1, -5, 100)\n",
    "float: Số thực (ví dụ: 3.14, -0.5)\n",
    "bool: Kiểu logic (True, False)\n",
    "str: Chuỗi ký tự (ví dụ: \"Hello\", 'Python')\n",
    "list: Danh sách (ví dụ: [1, 2, 3])\n",
    "tuple: Bộ (ví dụ: (1, 2, 3))\n",
    "dict: Từ điển (ví dụ: {\"a\": 1, \"b\": 2})\n",
    "set: Tập hợp (ví dụ: {1, 2, 3})\n",
    "'''"
   ]
  },
  {
   "cell_type": "code",
   "execution_count": null,
   "id": "c188d8b0",
   "metadata": {},
   "outputs": [],
   "source": [
    "#Bai5\n",
    "#Ghi chú một dòng bằng #\n",
    "'''Ghi chú nhiều dòng bằng ba dấu nháy đơn hoặc kép'''"
   ]
  },
  {
   "cell_type": "code",
   "execution_count": null,
   "id": "6fed1d03",
   "metadata": {},
   "outputs": [],
   "source": [
    "#Bai6\n",
    "'''Ý nghĩa các toán tử trong Python:\n",
    "\n",
    "/ : Chia lấy kết quả là số thực.\n",
    "10 / 3 → 3.333...\n",
    "\n",
    " : Chia lấy phần nguyên (bỏ phần thập phân).\n",
    "10 // 3 → 3\n",
    "\n",
    "% : Chia lấy phần dư (modulo).\n",
    "10 % 3 → 1\n",
    "\n",
    "** : Lũy thừa.\n",
    "2 ** 3 → 8\n",
    "\n",
    "and : Toán tử logic \"và\", trả về True nếu cả hai điều kiện đều đúng.\n",
    "True and False → False\n",
    "\n",
    "or : Toán tử logic \"hoặc\", trả về True nếu ít nhất một điều kiện đúng.\n",
    "True or False → True\n",
    "\n",
    "is : So sánh hai biến có cùng tham chiếu đến một đối tượng không.\n",
    "a is b → True nếu a và b cùng tham chiếu một đối tượng.'''"
   ]
  },
  {
   "cell_type": "code",
   "execution_count": 11,
   "id": "acde8b60",
   "metadata": {},
   "outputs": [],
   "source": [
    "#Bai7\n",
    "#Có thể dùng input\n",
    "name = input(\"Nhập tên của bạn: \")\n",
    "#Ép kiểu\n",
    "age = int(input(\"Nhập tuổi: \"))\n",
    "score = float(input(\"Nhập điểm: \"))\n",
    "#Nhap nhieu gia tri tren mot dong\n",
    "a, b = input(\"Nhập hai số, cách nhau bởi dấu cách: \").split()\n",
    "a = int(a)\n",
    "b = int(b)\n"
   ]
  },
  {
   "cell_type": "code",
   "execution_count": 13,
   "id": "73e2834e",
   "metadata": {},
   "outputs": [
    {
     "name": "stdout",
     "output_type": "stream",
     "text": [
      "1.4285714285714286\n"
     ]
    }
   ],
   "source": [
    "#Bai8\n",
    "'''Các loại lỗi khi lập trình Python:\n",
    "\n",
    "Lỗi cú pháp (SyntaxError):\n",
    "Do viết sai quy tắc ngôn ngữ, ví dụ thiếu dấu : hoặc sai dấu ngoặc.\n",
    "\n",
    "Lỗi thực thi (RuntimeError):\n",
    "Xảy ra khi chương trình chạy, ví dụ chia cho 0, truy cập biến chưa khai báo.\n",
    "\n",
    "Lỗi logic:\n",
    "Chương trình chạy nhưng kết quả sai do sai thuật toán.\n",
    "\n",
    "Cách bắt lỗi trong Python:\n",
    "Sử dụng khối try...except để xử lý lỗi khi chạy chương trình.'''\n",
    "try:\n",
    "    x = int(input(\"Nhập số: \"))\n",
    "    print(10 / x)\n",
    "except ZeroDivisionError:\n",
    "    print(\"Không được chia cho 0!\")\n",
    "except ValueError:\n",
    "    print(\"Bạn phải nhập số!\")\n",
    "except Exception as e:\n",
    "    print(\"Lỗi khác:\", e)"
   ]
  },
  {
   "cell_type": "code",
   "execution_count": null,
   "id": "4ae2de78",
   "metadata": {},
   "outputs": [],
   "source": [
    "#Bai9\n",
    "'''\n",
    "(a) -13\n",
    "(b) 4\n",
    "(c) 1\n",
    "(d) 1\n",
    "(e) -3\n",
    "(f) -3\n",
    "(g) 8\n",
    "(h) 8\n",
    "(i) 4\n",
    "(j) 4\n",
    "(k) -0.5\n",
    "(l) -0.5\n",
    "(m) 0.9\n",
    "(n) 0.3636\n",
    "(o) 6.8333\n",
    "(p) 2.1667\n",
    "(q) 6.8333\n",
    "(r) 52.5\n",
    "'''"
   ]
  },
  {
   "cell_type": "code",
   "execution_count": null,
   "id": "86767479",
   "metadata": {},
   "outputs": [],
   "source": [
    "# Ví dụ rút gọn các phép gán trong Python\n",
    "\n",
    "# a\n",
    "x += 1\n",
    "\n",
    "# b\n",
    "x /= 2\n",
    "\n",
    "# c\n",
    "x -= 1\n",
    "\n",
    "# d\n",
    "x += y\n",
    "\n",
    "# e\n",
    "x -= (y + 7)\n",
    "\n",
    "# f\n",
    "x *= 2\n",
    "\n",
    "# g\n",
    "number_of_closed_cases += 2 * ncc\n"
   ]
  }
 ],
 "metadata": {
  "kernelspec": {
   "display_name": "Python 3",
   "language": "python",
   "name": "python3"
  },
  "language_info": {
   "codemirror_mode": {
    "name": "ipython",
    "version": 3
   },
   "file_extension": ".py",
   "mimetype": "text/x-python",
   "name": "python",
   "nbconvert_exporter": "python",
   "pygments_lexer": "ipython3",
   "version": "3.13.7"
  }
 },
 "nbformat": 4,
 "nbformat_minor": 5
}
