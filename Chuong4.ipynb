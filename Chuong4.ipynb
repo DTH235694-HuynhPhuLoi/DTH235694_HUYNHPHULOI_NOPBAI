{
 "cells": [
  {
   "cell_type": "code",
   "execution_count": null,
   "id": "30f2fae6",
   "metadata": {},
   "outputs": [
    {
     "name": "stdout",
     "output_type": "stream",
     "text": [
      "Chương trình tính diện tích Tam Giác\n",
      "Diện tích = 9.921567416492215\n"
     ]
    }
   ],
   "source": [
    "#Cau1\n",
    "from math import sqrt\n",
    "print(\"Chương trình tính diện tích Tam Giác\")\n",
    "a=float(input(\"Nhập cạnh a>0:\"))\n",
    "b=float(input(\"Nhập cạnh b>0:\"))\n",
    "c=float(input(\"Nhập cạnh c>0:\"))\n",
    "if (a<=0 or b <=0 or c <=0) or (a+b)<=c or (a+c)<=b or b+c<=a:\n",
    "    print(\"Tam giác không hợp lệ\")\n",
    "else:\n",
    "    cv=a+b+c\n",
    "    p=cv/2\n",
    "    dt=sqrt(p*(p-a)*(p-b)*(p-c))\n",
    "    print(\"Diện tích =\",dt)"
   ]
  },
  {
   "cell_type": "code",
   "execution_count": null,
   "id": "57ad34c3",
   "metadata": {},
   "outputs": [
    {
     "name": "stdout",
     "output_type": "stream",
     "text": [
      "Bạn đoán lần thứ 1\n",
      "Bạn đoán sai, số máy > số bạn\n",
      "Bạn đoán lần thứ 2\n",
      "Bạn đoán sai, số máy > số bạn\n",
      "Bạn đoán lần thứ 3\n",
      "Bạn đoán sai, số máy > số bạn\n",
      "Bạn đoán lần thứ 4\n",
      "Bạn đoán sai, số máy > số bạn\n",
      "Bạn đoán lần thứ 5\n",
      "Bạn đoán sai, số máy > số bạn\n",
      "Bạn đoán lần thứ 6\n",
      "Bạn đoán sai, số máy < số bạn\n",
      "Bạn đoán lần thứ 7\n",
      "Bạn đoán sai, số máy > số bạn\n",
      "GAME OVER!, số máy = 72\n",
      "Cám ơn bạn đã chơi Game!\n"
     ]
    }
   ],
   "source": [
    "#Cau2\n",
    "from random import randrange\n",
    "\n",
    "while True:\n",
    "    somay = randrange(1, 101)\n",
    "    solandoan = 0\n",
    "    win = False\n",
    "    while solandoan < 7:\n",
    "        solandoan += 1\n",
    "        songuoi = int(input(\"Máy đoán [1..100], mời bạn đoán: \"))\n",
    "        print(\"Bạn đoán lần thứ\", solandoan)\n",
    "        if somay == songuoi:\n",
    "            print(\"Chúc mừng bạn đoán đúng, số máy là =\", somay)\n",
    "            win = True\n",
    "            break\n",
    "        elif somay > songuoi:\n",
    "            print(\"Bạn đoán sai, số máy > số bạn\")\n",
    "        else:\n",
    "            print(\"Bạn đoán sai, số máy < số bạn\")\n",
    "    if not win:\n",
    "        print(\"GAME OVER!, số máy =\", somay)\n",
    "    hoi = input(\"Tiếp không? (k để thoát): \")\n",
    "    if hoi == \"k\":\n",
    "        break\n",
    "print(\"Cám ơn bạn đã chơi Game!\")"
   ]
  },
  {
   "cell_type": "code",
   "execution_count": null,
   "id": "7a202960",
   "metadata": {},
   "outputs": [
    {
     "name": "stdout",
     "output_type": "stream",
     "text": [
      "Nhập vào chiều cao (m):\n",
      "Nhập vào cân nặng (kg):\n",
      "BMI của bạn = 2.8\n",
      "Phân loại bạn = Gầy\n",
      "Nguy cơ bệnh của Thím = Thấp\n"
     ]
    }
   ],
   "source": [
    "#Cau3\n",
    "def BMI(height, weight):\n",
    "    return weight / (height ** 2)\n",
    "\n",
    "def PhanLoai(bmi):\n",
    "    if bmi < 18.5:\n",
    "        return \"Gầy\"\n",
    "    elif bmi <= 24.9:\n",
    "        return \"Bình thường\"\n",
    "    elif bmi <= 29.9:\n",
    "        return \"Hơi Béo\"\n",
    "    elif bmi <= 34.9:\n",
    "        return \"Béo Phì Cấp Độ 1\"\n",
    "    elif bmi <= 39.9:\n",
    "        return \"Béo Phì Cấp Độ 2\"\n",
    "    else:\n",
    "        return \"Béo Phì Cấp Độ 3\"\n",
    "\n",
    "def NguyCoBenh(bmi):\n",
    "    if bmi < 18.5:\n",
    "        return \"Thấp\"\n",
    "    elif bmi <= 24.9:\n",
    "        return \"Trung Bình\"\n",
    "    elif bmi <= 29.9:\n",
    "        return \"Cao\"\n",
    "    elif bmi <= 34.9:\n",
    "        return \"Cao\"\n",
    "    elif bmi <= 39.9:\n",
    "        return \"Rất cao\"\n",
    "    else:\n",
    "        return \"Nguy Hiểm\"\n",
    "\n",
    "print(\"Nhập vào chiều cao (m):\")\n",
    "height = float(input())\n",
    "print(\"Nhập vào cân nặng (kg):\")\n",
    "weight = float(input())\n",
    "bmi = BMI(height, weight)\n",
    "print(\"BMI của bạn =\", round(bmi, 2))\n",
    "print(\"Phân loại bạn =\", PhanLoai(bmi))\n",
    "print(\"Nguy cơ bệnh của Thím =\", NguyCoBenh(bmi))"
   ]
  },
  {
   "cell_type": "code",
   "execution_count": 4,
   "id": "79ef24aa",
   "metadata": {},
   "outputs": [
    {
     "name": "stdout",
     "output_type": "stream",
     "text": [
      "Chương trình tính ROI\n",
      "Tỉ Lệ ROI= 9.0\n",
      "==> Nên đầu tư\n"
     ]
    }
   ],
   "source": [
    "#Cau4\n",
    "def ROI(dt,cp):\n",
    "    return (dt-cp)/cp\n",
    "def GoiYDauTu(roi):\n",
    "    if roi>=0.75:\n",
    "        return \"Nên đầu tư\"\n",
    "    else:\n",
    "        return \"Không nên đầu tư\"\n",
    "print(\"Chương trình tính ROI\")\n",
    "dt=int(input(\"Nhập Doanh Thu:\"))\n",
    "cp=int(input(\"Nhập chi phí:\"))\n",
    "roi=ROI(dt,cp)\n",
    "print(\"Tỉ Lệ ROI=\",roi)\n",
    "print(\"==>\",GoiYDauTu(roi))"
   ]
  },
  {
   "cell_type": "code",
   "execution_count": 6,
   "id": "d1a106d7",
   "metadata": {},
   "outputs": [
    {
     "name": "stdout",
     "output_type": "stream",
     "text": [
      "34\n",
      "1\t1\t2\t3\t5\t8\t13\t21\t34\t"
     ]
    }
   ],
   "source": [
    "\n",
    "#Cau5:\n",
    "def fibonacci(n):\n",
    "    if n<=2 :\n",
    "        return 1\n",
    "    return fibonacci(n-1)+fibonacci(n-2)\n",
    "def listfibo(n):\n",
    "    for i in range(1,n+1):\n",
    "        print(fibonacci(i),end='\\t')\n",
    "print(fibonacci(9))\n",
    "listfibo(9)"
   ]
  },
  {
   "cell_type": "code",
   "execution_count": null,
   "id": "fd03a3b5",
   "metadata": {},
   "outputs": [],
   "source": [
    "#Cau6:\n",
    "\"\"\"\n",
    "Khi chạy randrange(0, 100), các giá trị có thể xuất hiện là các số nguyên từ 0 đến 99 (bao gồm 0, không bao gồm 100).\n",
    "\n",
    "4.5: Không thể xuất hiện (vì không phải số nguyên).\n",
    "34: Có thể xuất hiện.\n",
    "-1: Không thể xuất hiện.\n",
    "100: Không thể xuất hiện.\n",
    "0: Có thể xuất hiện.\n",
    "99: Có thể xuất hiện.\n",
    "\"\"\""
   ]
  },
  {
   "cell_type": "code",
   "execution_count": 1,
   "id": "a8a152ab",
   "metadata": {},
   "outputs": [
    {
     "name": "stdout",
     "output_type": "stream",
     "text": [
      "Nhập tọa độ điểm A:\n",
      "Nhập tọa độ điểm B:\n",
      "Độ dài đoạn AB = 2.83\n"
     ]
    }
   ],
   "source": [
    "# Câu 7: Tính và xuất độ dài đoạn AB\n",
    "\n",
    "from math import sqrt\n",
    "\n",
    "print(\"Nhập tọa độ điểm A:\")\n",
    "xA = float(input(\"xA = \"))\n",
    "yA = float(input(\"yA = \"))\n",
    "\n",
    "print(\"Nhập tọa độ điểm B:\")\n",
    "xB = float(input(\"xB = \"))\n",
    "yB = float(input(\"yB = \"))\n",
    "\n",
    "dAB = sqrt((xB - xA) ** 2 + (yB - yA) ** 2)\n",
    "print(\"Độ dài đoạn AB =\", round(dAB, 2))"
   ]
  },
  {
   "cell_type": "code",
   "execution_count": 2,
   "id": "d27f122e",
   "metadata": {},
   "outputs": [
    {
     "name": "stdout",
     "output_type": "stream",
     "text": [
      "log_3.0(5.0) = 1.465\n"
     ]
    }
   ],
   "source": [
    "# Câu 8: Viết chương trình tính log_a(x) với x > 0, a > 0, a != 1\n",
    "\n",
    "from math import log\n",
    "\n",
    "a = float(input(\"Nhập cơ số a (>0, !=1): \"))\n",
    "x = float(input(\"Nhập số x (>0): \"))\n",
    "\n",
    "if a > 0 and a != 1 and x > 0:\n",
    "    kq = log(x) / log(a)\n",
    "    print(f\"log_{a}({x}) =\", round(kq, 4))\n",
    "else:\n",
    "    print(\"Giá trị a hoặc x không hợp lệ!\")"
   ]
  },
  {
   "cell_type": "code",
   "execution_count": 3,
   "id": "716b02ef",
   "metadata": {},
   "outputs": [
    {
     "name": "stdout",
     "output_type": "stream",
     "text": [
      "Giá trị S( 5 ) = 1.9976\n"
     ]
    }
   ],
   "source": [
    "# Câu 9: Viết chương trình tính căn bậc 2 lồng nhau S(n)\n",
    "\n",
    "from math import sqrt\n",
    "\n",
    "n = int(input(\"Nhập n: \"))\n",
    "S = 0\n",
    "for i in range(n):\n",
    "    S = sqrt(2 + S)\n",
    "print(\"Giá trị S(\", n, \") =\", round(S, 4))"
   ]
  },
  {
   "cell_type": "code",
   "execution_count": 4,
   "id": "4acea895",
   "metadata": {},
   "outputs": [
    {
     "name": "stdout",
     "output_type": "stream",
     "text": [
      "    * \n",
      "   * * \n",
      "  * * * \n",
      " * * * * \n",
      "* * * * * \n",
      "\n",
      "* * * * * \n",
      "* * * *   \n",
      "* * *     \n",
      "* *       \n",
      "*         \n",
      "\n",
      "* * * * * \n",
      "* * * * * \n",
      "* * * * * \n",
      "* * * * * \n",
      "* * * * * \n",
      "\n",
      "* * * * * \n",
      " * * * * \n",
      "  * * * \n",
      "   * * \n",
      "    * \n"
     ]
    }
   ],
   "source": [
    "# Câu 10: Vẽ hình dùng sleep\n",
    "\n",
    "from time import sleep\n",
    "\n",
    "def hinh1(n):\n",
    "    for i in range(n):\n",
    "        print(' ' * (n - i - 1) + '* ' * (i + 1))\n",
    "\n",
    "def hinh2(n):\n",
    "    for i in range(n):\n",
    "        print('* ' * (n - i) + ' ' * (2 * i))\n",
    "\n",
    "def hinh3(n):\n",
    "    for i in range(n):\n",
    "        print('* ' * n)\n",
    "\n",
    "def hinh4(n):\n",
    "    for i in range(n):\n",
    "        print(' ' * i + '* ' * (n - i))\n",
    "\n",
    "n = 5\n",
    "hinh1(n)\n",
    "sleep(5)\n",
    "print()\n",
    "hinh2(n)\n",
    "sleep(5)\n",
    "print()\n",
    "hinh3(n)\n",
    "sleep(5)\n",
    "print()\n",
    "hinh4(n)"
   ]
  },
  {
   "cell_type": "code",
   "execution_count": null,
   "id": "a92cfab4",
   "metadata": {},
   "outputs": [],
   "source": [
    "#Cau11:\n",
    "#Truong hop 1\n",
    "\"\"\"Ket qua:\n",
    "5\n",
    "5 (val bị giảm về 0)\n",
    "0 (val = 0)\"\"\"\n",
    "#Truong hop 2\n",
    "\"\"\"Ket qua:\n",
    "5\n",
    "5 \n",
    "5 (val vẫn là 5)\"\"\"\n",
    "#Truong hop 3\n",
    "\"\"\"Ket qua:\n",
    "5\n",
    "5 (val bị giảm về 0)\n",
    "0 (val = 0)\"\"\""
   ]
  },
  {
   "cell_type": "code",
   "execution_count": 5,
   "id": "edbcbf26",
   "metadata": {},
   "outputs": [
    {
     "name": "stdout",
     "output_type": "stream",
     "text": [
      "-3 3 2 1 0 -1 1 0 -1 1 0 -1 1 0 -1 \n"
     ]
    }
   ],
   "source": [
    "# Câu 12: Hàm oscillate\n",
    "\n",
    "def oscillate(a, b):\n",
    "    lst = []\n",
    "    x = a\n",
    "    for i in range(b):\n",
    "        lst.append(x)\n",
    "        if x < 0:\n",
    "            x = -x\n",
    "        else:\n",
    "            x = x - 1\n",
    "    return lst\n",
    "\n",
    "for n in oscillate(-3, 15):\n",
    "    print(n, end=' ')\n",
    "print()"
   ]
  },
  {
   "cell_type": "code",
   "execution_count": 6,
   "id": "cc3a3e15",
   "metadata": {},
   "outputs": [
    {
     "name": "stdout",
     "output_type": "stream",
     "text": [
      "4 không phải là số hoàn thiện hoặc thịnh vượng\n"
     ]
    }
   ],
   "source": [
    "# Câu 13: Hàm kiểm tra số hoàn thiện, số thịnh vượng\n",
    "\n",
    "def tong_uoc_so(n):\n",
    "    tong = 0\n",
    "    for i in range(1, n):\n",
    "        if n % i == 0:\n",
    "            tong += i\n",
    "    return tong\n",
    "\n",
    "def la_hoan_thien(n):\n",
    "    return tong_uoc_so(n) == n\n",
    "\n",
    "def la_thinh_vuong(n):\n",
    "    return tong_uoc_so(n) > n\n",
    "\n",
    "n = int(input(\"Nhập số nguyên dương n: \"))\n",
    "if la_hoan_thien(n):\n",
    "    print(n, \"là số hoàn thiện\")\n",
    "elif la_thinh_vuong(n):\n",
    "    print(n, \"là số thịnh vượng\")\n",
    "else:\n",
    "    print(n, \"không phải là số hoàn thiện hoặc thịnh vượng\")"
   ]
  }
 ],
 "metadata": {
  "kernelspec": {
   "display_name": "Python 3",
   "language": "python",
   "name": "python3"
  },
  "language_info": {
   "codemirror_mode": {
    "name": "ipython",
    "version": 3
   },
   "file_extension": ".py",
   "mimetype": "text/x-python",
   "name": "python",
   "nbconvert_exporter": "python",
   "pygments_lexer": "ipython3",
   "version": "3.13.7"
  }
 },
 "nbformat": 4,
 "nbformat_minor": 5
}
