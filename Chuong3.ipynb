{
 "cells": [
  {
   "cell_type": "code",
   "execution_count": null,
   "id": "2927cf91",
   "metadata": {},
   "outputs": [
    {
     "name": "stdout",
     "output_type": "stream",
     "text": [
      "Chương trình kiểm tra năm nhuần\n",
      "Năm  234  không nhuần\n"
     ]
    }
   ],
   "source": [
    "#Bai1 Kiểm tra năm nhuần\n",
    "print(\"Chương trình kiểm tra năm nhuần\")\n",
    "year=int(input(\"Mời Thím nhập vào 1 năm:\"))\n",
    "if (year % 4 ==0 and year % 100 != 0) or year % 400 == 0:\n",
    "    print(\"Năm \", year, \" là năm nhuần\")\n",
    "else:\n",
    "    print(\"Năm \", year, \" không nhuần\")"
   ]
  },
  {
   "cell_type": "code",
   "execution_count": null,
   "id": "48e815fb",
   "metadata": {},
   "outputs": [
    {
     "name": "stdout",
     "output_type": "stream",
     "text": [
      "Chương trình đếm số ngày trong tháng\n",
      "Tháng  3  có 31 ngày\n"
     ]
    }
   ],
   "source": [
    "#Bai2 Dem so ngay trong thang\n",
    "print(\"Chương trình đếm số ngày trong tháng\")\n",
    "month=int(input(\"Nhập vào 1 tháng:\"))\n",
    "if month in (1,3,5,7,8,10,12):\n",
    "    print(\"Tháng \", month, \" có 31 ngày\")\n",
    "elif month in (4,6,9,11):\n",
    "    print(\"Tháng \", month, \" có 30 ngày\")\n",
    "elif month==2:\n",
    "    year=int(input(\"Mời bạn nhập vào năm:\"))\n",
    "    if (year % 4 ==0 and year % 100 != 0) or year % 400 == 0:\n",
    "        print(\"Tháng \",month, \" có 29 ngày\")\n",
    "    else:\n",
    "        print(\"Tháng \", month, \" có 28 ngày\")\n",
    "else:\n",
    "    print(\"Tháng \", month, \" không hợp lệ\")"
   ]
  },
  {
   "cell_type": "code",
   "execution_count": null,
   "id": "19bd3144",
   "metadata": {},
   "outputs": [
    {
     "name": "stdout",
     "output_type": "stream",
     "text": [
      "Chương trình Giải Phương trình bậc 2\n",
      "Vô nghiệm\n"
     ]
    }
   ],
   "source": [
    "#Bai3\n",
    "#ax^2+bx+c=0\n",
    "from math import sqrt\n",
    "print(\"Chương trình Giải Phương trình bậc 2\")\n",
    "a=float(input(\"Nhập a:\"))\n",
    "b=float(input(\"Nhập b:\"))\n",
    "c=float(input(\"Nhập c:\"))\n",
    "if a == 0:\n",
    "    # bx + c = 0\n",
    "    if b == 0 and c == 0:\n",
    "        print(\"Vô số nghiệm\")\n",
    "    elif b == 0 and c != 0:\n",
    "        print(\"Vô nghiệm\")\n",
    "    else:\n",
    "        x = -c / b\n",
    "        print(\"Nghiệm x =\", x)\n",
    "else:\n",
    "    delta = b ** 2 - 4 * a * c\n",
    "    if delta < 0:\n",
    "        print(\"Vô nghiệm\")\n",
    "    elif delta == 0:\n",
    "        x = -b / (2 * a)\n",
    "        print(\"Nghiệm kép x1 = x2 =\", x)\n",
    "    else:\n",
    "        x1 = (-b - sqrt(delta)) / (2 * a)\n",
    "        x2 = (-b + sqrt(delta)) / (2 * a)\n",
    "        print(\"x1 =\", x1)\n",
    "        print(\"x2 =\", x2)"
   ]
  },
  {
   "cell_type": "code",
   "execution_count": null,
   "id": "e2c71491",
   "metadata": {
    "vscode": {
     "languageId": "ruby"
    }
   },
   "outputs": [],
   "source": [
    "# Câu 4: Kết quả của Boolean Expression\n",
    "x, y, z = 3, 5, 7\n",
    "\n",
    "print(\"(a)\", x == 3)                # True\n",
    "print(\"(b)\", x < y)                 # True\n",
    "print(\"(c)\", x >= y)                # False\n",
    "print(\"(d)\", x <= y)                # True\n",
    "print(\"(e)\", x != y - 2)            # False\n",
    "print(\"(f)\", x < 10)                # True\n",
    "print(\"(g)\", x >= 0 and x < 10)     # True\n",
    "print(\"(h)\", x < 0 and x < 10)      # False\n",
    "print(\"(i)\", x >= 0 and x < 2)      # False\n",
    "print(\"(j)\", x < 0 or x < 10)       # True\n",
    "print(\"(k)\", x > 0 or x < 10)       # True\n",
    "print(\"(l)\", x < 0 or x > 10)       # False"
   ]
  },
  {
   "cell_type": "code",
   "execution_count": null,
   "id": "3e6a9b97",
   "metadata": {
    "vscode": {
     "languageId": "ruby"
    }
   },
   "outputs": [],
   "source": [
    "# Câu 5: Kết quả xuất ra màn hình với các giá trị i, j, k\n",
    "\n",
    "def test_case(i, j, k):\n",
    "    if i < j:\n",
    "        if j < k:\n",
    "            i = j\n",
    "        else:\n",
    "            j = k\n",
    "    else:\n",
    "        if j > k:\n",
    "            j = i\n",
    "        else:\n",
    "            i = k\n",
    "    print(\"i =\", i, \", j =\", j, \", k =\", k)\n",
    "\n",
    "# (a) i = 3, j = 5, k = 7\n",
    "test_case(3, 5, 7)  # Kết quả: i = 5 , j = 5 , k = 7\n",
    "\n",
    "# (b) i = 3, j = 7, k = 5\n",
    "test_case(3, 7, 5)  # Kết quả: i = 3 , j = 5 , k = 5\n",
    "\n",
    "# (c) i = 5, j = 3, k = 7\n",
    "test_case(5, 3, 7)  # Kết quả: i = 7 , j = 3 , k = 7\n",
    "\n",
    "# (d) i = 5, j = 7, k = 3\n",
    "test_case(5, 7, 3)  # Kết quả: i = 5 , j = 3 , k = 3\n",
    "\n",
    "# (e) i = 7, j = 3, k = 5\n",
    "test_case(7, 3, 5)  # Kết quả: i = 5 , j = 3 , k = 5\n",
    "\n",
    "# (f) i = 7, j = 5, k = 3\n",
    "test_case(7, 5, 3)  # Kết quả: i = 7 , j = 7 , k = 3"
   ]
  },
  {
   "cell_type": "code",
   "execution_count": 11,
   "id": "8a311481",
   "metadata": {},
   "outputs": [
    {
     "name": "stdout",
     "output_type": "stream",
     "text": [
      "năm mươi bốn\n"
     ]
    }
   ],
   "source": [
    "# Câu 6: Đọc số n có tối đa 2 chữ số ra dạng chữ\n",
    "\n",
    "def doc_so(n):\n",
    "    chu_so = [\"không\", \"một\", \"hai\", \"ba\", \"bốn\", \"năm\", \"sáu\", \"bảy\", \"tám\", \"chín\"]\n",
    "    if n < 0 or n > 99:\n",
    "        return \"Số không hợp lệ\"\n",
    "    if n < 10:\n",
    "        return chu_so[n]\n",
    "    elif n < 20:\n",
    "        if n == 10:\n",
    "            return \"mười\"\n",
    "        elif n == 15:\n",
    "            return \"mười lăm\"\n",
    "        else:\n",
    "            return \"mười \" + chu_so[n % 10]\n",
    "    else:\n",
    "        hang_chuc = n // 10\n",
    "        hang_don_vi = n % 10\n",
    "        chuoi = chu_so[hang_chuc] + \" mươi\"\n",
    "        if hang_don_vi == 0:\n",
    "            return chuoi\n",
    "        elif hang_don_vi == 1:\n",
    "            return chuoi + \" mốt\"\n",
    "        elif hang_don_vi == 5:\n",
    "            return chuoi + \" lăm\"\n",
    "        else:\n",
    "            return chuoi + \" \" + chu_so[hang_don_vi]\n",
    "\n",
    "# Nhập số n và đọc ra dạng chữ\n",
    "n = int(input(\"Nhập số n (tối đa 2 chữ số): \"))\n",
    "print(doc_so(n))"
   ]
  },
  {
   "cell_type": "code",
   "execution_count": 1,
   "id": "8f7b2891",
   "metadata": {},
   "outputs": [
    {
     "name": "stdout",
     "output_type": "stream",
     "text": [
      "Ngày kế tiếp là: 25/5/7222\n"
     ]
    }
   ],
   "source": [
    "# Câu 7: Tìm ngày kế sau ngày vừa nhập\n",
    "\n",
    "def is_leap_year(year):\n",
    "    return (year % 4 == 0 and year % 100 != 0) or (year % 400 == 0)\n",
    "\n",
    "def days_in_month(month, year):\n",
    "    if month in [1, 3, 5, 7, 8, 10, 12]:\n",
    "        return 31\n",
    "    elif month in [4, 6, 9, 11]:\n",
    "        return 30\n",
    "    elif month == 2:\n",
    "        return 29 if is_leap_year(year) else 28\n",
    "    else:\n",
    "        return 0\n",
    "\n",
    "def next_day(day, month, year):\n",
    "    d_in_m = days_in_month(month, year)\n",
    "    if day < d_in_m:\n",
    "        return day + 1, month, year\n",
    "    else:\n",
    "        if month == 12:\n",
    "            return 1, 1, year + 1\n",
    "        else:\n",
    "            return 1, month + 1, year\n",
    "\n",
    "# Nhập ngày, tháng, năm\n",
    "day = int(input(\"Nhập ngày: \"))\n",
    "month = int(input(\"Nhập tháng: \"))\n",
    "year = int(input(\"Nhập năm: \"))\n",
    "\n",
    "if 1 <= month <= 12 and 1 <= day <= days_in_month(month, year):\n",
    "    nd, nm, ny = next_day(day, month, year)\n",
    "    print(f\"Ngày kế tiếp là: {nd}/{nm}/{ny}\")\n",
    "else:\n",
    "    print(\"Ngày không hợp lệ\")"
   ]
  },
  {
   "cell_type": "code",
   "execution_count": 2,
   "id": "43e59a07",
   "metadata": {},
   "outputs": [
    {
     "name": "stdout",
     "output_type": "stream",
     "text": [
      "Kết quả: 11.0\n"
     ]
    }
   ],
   "source": [
    "# Câu 8: Nhập vào 2 giá trị a, b và phép toán '+', '-', '*', '/'. Xuất kết quả theo phép toán đã nhập.\n",
    "\n",
    "a = float(input(\"Nhập giá trị a: \"))\n",
    "b = float(input(\"Nhập giá trị b: \"))\n",
    "op = input(\"Nhập phép toán (+, -, *, /): \")\n",
    "\n",
    "if op == '+':\n",
    "    print(\"Kết quả:\", a + b)\n",
    "elif op == '-':\n",
    "    print(\"Kết quả:\", a - b)\n",
    "elif op == '*':\n",
    "    print(\"Kết quả:\", a * b)\n",
    "elif op == '/':\n",
    "    if b != 0:\n",
    "        print(\"Kết quả:\", a / b)\n",
    "    else:\n",
    "        print(\"Lỗi: Không thể chia cho 0\")\n",
    "else:\n",
    "    print(\"Phép toán không hợp lệ\")"
   ]
  },
  {
   "cell_type": "code",
   "execution_count": 3,
   "id": "ff778eb9",
   "metadata": {},
   "outputs": [
    {
     "name": "stdout",
     "output_type": "stream",
     "text": [
      "Tháng 4 thuộc quý 2\n"
     ]
    }
   ],
   "source": [
    "# Câu 9: Nhập vào 1 tháng, xuất ra tháng đó thuộc quý mấy trong năm.\n",
    "\n",
    "month = int(input(\"Nhập vào tháng (1-12): \"))\n",
    "\n",
    "if 1 <= month <= 3:\n",
    "    print(f\"Tháng {month} thuộc quý 1\")\n",
    "elif 4 <= month <= 6:\n",
    "    print(f\"Tháng {month} thuộc quý 2\")\n",
    "elif 7 <= month <= 9:\n",
    "    print(f\"Tháng {month} thuộc quý 3\")\n",
    "elif 10 <= month <= 12:\n",
    "    print(f\"Tháng {month} thuộc quý 4\")\n",
    "else:\n",
    "    print(\"Tháng không hợp lệ\")"
   ]
  },
  {
   "cell_type": "code",
   "execution_count": 5,
   "id": "21d98431",
   "metadata": {},
   "outputs": [
    {
     "name": "stdout",
     "output_type": "stream",
     "text": [
      "s(5,2)=37.5\n"
     ]
    }
   ],
   "source": [
    "#Bai10: Tính S(x,N)=x/1!+x^2/2!+...+x^N/N!\n",
    "x=int(input(\"Nhập x:\"))\n",
    "n=int(input(\"Nhập N:\"))\n",
    "s=0\n",
    "for i in range(1,n+1):\n",
    "    tu=x**i\n",
    "mau=1\n",
    "for j in range(1,i+1):\n",
    "    mau=mau*j\n",
    "    s=s+(tu/mau)\n",
    "print(\"s({0},{1})={2}\".format(x,n,s))"
   ]
  },
  {
   "cell_type": "code",
   "execution_count": 7,
   "id": "3d41fb25",
   "metadata": {},
   "outputs": [
    {
     "name": "stdout",
     "output_type": "stream",
     "text": [
      "41 Là số nguyên tố\n",
      "24 Không là số nguyên tố\n",
      "BYE!\n"
     ]
    }
   ],
   "source": [
    "# Câu 11: Kiểm tra số nguyên tố\n",
    "\n",
    "while True:\n",
    "    n = int(input(\"Nhập 1 số nguyên dương: \"))\n",
    "    if n < 2:\n",
    "        print(n, \"Không là số nguyên tố\")\n",
    "    else:\n",
    "        is_prime = True\n",
    "        for i in range(2, int(n ** 0.5) + 1):\n",
    "            if n % i == 0:\n",
    "                is_prime = False\n",
    "                break\n",
    "        if is_prime:\n",
    "            print(n, \"Là số nguyên tố\")\n",
    "        else:\n",
    "            print(n, \"Không là số nguyên tố\")\n",
    "    hoi = input(\"Tiếp không Thím? (c/k): \")\n",
    "    if hoi == \"k\":\n",
    "        break\n",
    "print(\"BYE!\")"
   ]
  },
  {
   "cell_type": "code",
   "execution_count": null,
   "id": "3c8bdec2",
   "metadata": {},
   "outputs": [
    {
     "name": "stdout",
     "output_type": "stream",
     "text": [
      "2* 1= 2\t3* 1= 3\t4* 1= 4\t5* 1= 5\t6* 1= 6\t7* 1= 7\t8* 1= 8\t9* 1= 9\t2* 2= 4\t3* 2= 6\t4* 2= 8\t5* 2=10\t6* 2=12\t7* 2=14\t8* 2=16\t9* 2=18\t2* 3= 6\t3* 3= 9\t4* 3=12\t5* 3=15\t6* 3=18\t7* 3=21\t8* 3=24\t9* 3=27\t2* 4= 8\t3* 4=12\t4* 4=16\t5* 4=20\t6* 4=24\t7* 4=28\t8* 4=32\t9* 4=36\t2* 5=10\t3* 5=15\t4* 5=20\t5* 5=25\t6* 5=30\t7* 5=35\t8* 5=40\t9* 5=45\t2* 6=12\t3* 6=18\t4* 6=24\t5* 6=30\t6* 6=36\t7* 6=42\t8* 6=48\t9* 6=54\t2* 7=14\t3* 7=21\t4* 7=28\t5* 7=35\t6* 7=42\t7* 7=49\t8* 7=56\t9* 7=63\t2* 8=16\t3* 8=24\t4* 8=32\t5* 8=40\t6* 8=48\t7* 8=56\t8* 8=64\t9* 8=72\t2* 9=18\t3* 9=27\t4* 9=36\t5* 9=45\t6* 9=54\t7* 9=63\t8* 9=72\t9* 9=81\t2*10=20\t3*10=30\t4*10=40\t5*10=50\t6*10=60\t7*10=70\t8*10=80\t9*10=90\t\n"
     ]
    }
   ],
   "source": [
    "#Cau12: In bảng cửu chương từ 2 đến 9\n",
    "for i in range(1,11):\n",
    "    for j in range(2,10):\n",
    "        line=\"{0}*{1:>2}={2:>2}\".format(j,i,i*j)\n",
    "        print(line,end='\\t')\n",
    "print()"
   ]
  },
  {
   "cell_type": "code",
   "execution_count": null,
   "id": "7521114d",
   "metadata": {},
   "outputs": [],
   "source": [
    "#Cau13: Cho biết bao nhiêu dấu * được in ra trên màn hình\n",
    "\"\"\"Với đoạn code ban đầu, số dấu * được in ra là vô hạn.\"\"\"\n"
   ]
  },
  {
   "cell_type": "code",
   "execution_count": null,
   "id": "22d32262",
   "metadata": {},
   "outputs": [],
   "source": [
    "#Cau14: \n",
    "\"\"\" Với mỗi giá trị của a từ 0 đến 99 (100 lần), b chạy từ 0 đến 39 (40 lần).\n",
    "Điều kiện (a + b) % 2 == 0 đúng khi tổng a + b là số chẵn.\n",
    "Trong 40 giá trị của b, có 20 giá trị thỏa mãn điều kiện (vì cứ 2 giá trị thì có 1 số chẵn).\n",
    "Vậy tổng số dấu * in ra là:\n",
    "100 × 20 = 2000 dấu * \"\"\""
   ]
  },
  {
   "cell_type": "code",
   "execution_count": null,
   "id": "d079a70d",
   "metadata": {},
   "outputs": [],
   "source": [
    "#Câu 15: Giải thích cách chạy các dòng lệnh range\n",
    "# (a) range(5)\n",
    "# Tạo dãy số từ 0 đến 4 (mặc định bước là 1)\n",
    "# Kết quả: [0, 1, 2, 3, 4]\n",
    "\n",
    "# (b) range(5, 10)\n",
    "# Tạo dãy số từ 5 đến 9 (mặc định bước là 1)\n",
    "# Kết quả: [5, 6, 7, 8, 9]\n",
    "\n",
    "# (c) range(5, 20, 3)\n",
    "# Tạo dãy số từ 5 đến 19, bước nhảy là 3\n",
    "# Kết quả: [5, 8, 11, 14, 17]\n",
    "\n",
    "# (d) range(20, 5, -1)\n",
    "# Tạo dãy số từ 20 đến 6, bước nhảy là -1\n",
    "# Kết quả: [20, 19, 18, 17, 16, 15, 14, 13, 12, 11, 10, 9, 8, 7, 6]\n",
    "\n",
    "# (e) range(20, 5, -3)\n",
    "# Tạo dãy số từ 20 đến 8, bước nhảy là -3\n",
    "# Kết quả: [20, 17, 14, 11, 8]\n",
    "\n",
    "# (f) range(10, 5)\n",
    "# Không có số nào vì mặc định bước là +1, 10 > 5\n",
    "# Kết quả: []\n",
    "\n",
    "# (g) range(0)\n",
    "# Không có số nào\n",
    "# Kết quả: []\n",
    "\n",
    "# (h) range(10, 101, 10)\n",
    "# Tạo dãy số từ 10 đến 100, bước nhảy là 10\n",
    "# Kết quả: [10, 20, 30, 40, 50, 60, 70, 80, 90, 100]\n",
    "\n",
    "# (i) range(10, -1, -1)\n",
    "# Tạo dãy số từ 10 đến 0, bước nhảy là -1\n",
    "# Kết quả: [10, 9, 8, 7, 6, 5, 4, 3, 2, 1, 0]\n",
    "\n",
    "# (j) range(-3, 4)\n",
    "# Tạo dãy số từ -3 đến 3, bước nhảy là 1\n",
    "# Kết quả: [-3, -2, -1, 0, 1, 2, 3]\n",
    "\n",
    "# (k) range(0, 10, 1)\n",
    "# Tạo dãy số từ 0 đến 9, bước nhảy là 1\n",
    "# Kết quả: [0, 1, 2, 3, 4, 5, 6, 7, 8, 9]"
   ]
  },
  {
   "cell_type": "code",
   "execution_count": null,
   "id": "77c868e6",
   "metadata": {},
   "outputs": [
    {
     "ename": "ValueError",
     "evalue": "invalid literal for int() with base 10: ''",
     "output_type": "error",
     "traceback": [
      "\u001b[31m---------------------------------------------------------------------------\u001b[39m",
      "\u001b[31mValueError\u001b[39m                                Traceback (most recent call last)",
      "\u001b[36mCell\u001b[39m\u001b[36m \u001b[39m\u001b[32mIn[13]\u001b[39m\u001b[32m, line 3\u001b[39m\n\u001b[32m      1\u001b[39m n, m = \u001b[32m0\u001b[39m, \u001b[32m100\u001b[39m\n\u001b[32m      2\u001b[39m \u001b[38;5;28;01mwhile\u001b[39;00m n != m:\n\u001b[32m----> \u001b[39m\u001b[32m3\u001b[39m     n = \u001b[38;5;28;43mint\u001b[39;49m\u001b[43m(\u001b[49m\u001b[38;5;28;43minput\u001b[39;49m\u001b[43m(\u001b[49m\u001b[43m)\u001b[49m\u001b[43m)\u001b[49m\n\u001b[32m      4\u001b[39m     \u001b[38;5;28;01mif\u001b[39;00m n < \u001b[32m0\u001b[39m:\n\u001b[32m      5\u001b[39m         \u001b[38;5;28mprint\u001b[39m(\u001b[33m\"\u001b[39m\u001b[33mn =\u001b[39m\u001b[33m\"\u001b[39m, n)\n",
      "\u001b[31mValueError\u001b[39m: invalid literal for int() with base 10: ''"
     ]
    }
   ],
   "source": [
    "#Cau16:\n",
    "n, m = 0, 100\n",
    "while n != m:\n",
    "    n = int(input())\n",
    "    if n < 0:\n",
    "        print(\"n =\", n)\n",
    "        break"
   ]
  },
  {
   "cell_type": "code",
   "execution_count": 14,
   "id": "228e1846",
   "metadata": {},
   "outputs": [
    {
     "name": "stdout",
     "output_type": "stream",
     "text": [
      "* * * * * \n",
      "* * * * * \n",
      "* * * * * \n",
      "* * * * * \n",
      "* * * * * \n",
      "\n",
      "*         \n",
      "  *       \n",
      "    *     \n",
      "      *   \n",
      "        * \n"
     ]
    }
   ],
   "source": [
    "#Câu 18: Vẽ các hình dưới đây\n",
    "# Hình 1: Hình vuông n x n\n",
    "n = int(input(\"Nhập chiều cao n: \"))\n",
    "for i in range(n):\n",
    "    for j in range(n):\n",
    "        print(\"*\", end=\" \")\n",
    "    print()\n",
    "\n",
    "print()  # Cách dòng\n",
    "\n",
    "# Hình 2: Đường chéo từ trái sang phải\n",
    "for i in range(n):\n",
    "    for j in range(n):\n",
    "        if i == j:\n",
    "            print(\"*\", end=\" \")\n",
    "        else:\n",
    "            print(\" \", end=\" \")\n",
    "    print()"
   ]
  },
  {
   "cell_type": "code",
   "execution_count": 15,
   "id": "da0d9df3",
   "metadata": {},
   "outputs": [
    {
     "name": "stdout",
     "output_type": "stream",
     "text": [
      "S(3.0,5) = 10.0176075487013\n"
     ]
    }
   ],
   "source": [
    "# Câu 19: Tính giá trị biểu thức S(x, n)\n",
    "# S(x, n) = x + x^3/3! + x^5/5! + ... + x^(2n+1)/(2n+1)!\n",
    "\n",
    "x = float(input(\"Nhập x: \"))\n",
    "n = int(input(\"Nhập n: \"))\n",
    "S = x\n",
    "for i in range(1, n + 1):\n",
    "    mu = 2 * i + 1\n",
    "    tu = x ** mu\n",
    "    mau = 1\n",
    "    for j in range(1, mu + 1):\n",
    "        mau *= j\n",
    "    S += tu / mau\n",
    "print(\"S({0},{1}) = {2}\".format(x, n, S))"
   ]
  }
 ],
 "metadata": {
  "kernelspec": {
   "display_name": "Python 3",
   "language": "python",
   "name": "python3"
  },
  "language_info": {
   "codemirror_mode": {
    "name": "ipython",
    "version": 3
   },
   "file_extension": ".py",
   "mimetype": "text/x-python",
   "name": "python",
   "nbconvert_exporter": "python",
   "pygments_lexer": "ipython3",
   "version": "3.13.7"
  }
 },
 "nbformat": 4,
 "nbformat_minor": 5
}
