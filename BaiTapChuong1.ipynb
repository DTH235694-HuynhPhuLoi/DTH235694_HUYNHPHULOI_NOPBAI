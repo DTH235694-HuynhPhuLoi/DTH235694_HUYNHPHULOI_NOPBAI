{
  "nbformat": 4,
  "nbformat_minor": 0,
  "metadata": {
    "colab": {
      "provenance": []
    },
    "kernelspec": {
      "name": "python3",
      "display_name": "Python 3"
    },
    "language_info": {
      "name": "python"
    }
  },
  "cells": [
    {
      "cell_type": "code",
      "execution_count": 1,
      "metadata": {
        "colab": {
          "base_uri": "https://localhost:8080/"
        },
        "id": "4ySKVJ9EasIG",
        "outputId": "72c31776-6934-4f56-e448-522b8e76f9de"
      },
      "outputs": [
        {
          "output_type": "stream",
          "name": "stdout",
          "text": [
            "* * * *\n",
            "\n",
            "*     *\n",
            "\n",
            "*     *\n",
            "\n",
            "* * * *\n",
            "\n"
          ]
        }
      ],
      "source": [
        "#BT1\n",
        "print('* * * *\\n')\n",
        "print('*     *\\n')\n",
        "print('*     *\\n')\n",
        "print('* * * *\\n')"
      ]
    },
    {
      "cell_type": "code",
      "source": [
        "#BT2\n",
        "print('* * * * * * * * * * *\\n')\n",
        "print('* * * * * * * * * * *\\n')\n",
        "print('* * * * * * * * * * *\\n')\n",
        "print('* * * * * * * * * * *\\n')"
      ],
      "metadata": {
        "colab": {
          "base_uri": "https://localhost:8080/"
        },
        "id": "LzyJXJ2hauqL",
        "outputId": "504da216-3cc1-4c17-8bb7-2129a4a139f6"
      },
      "execution_count": 2,
      "outputs": [
        {
          "output_type": "stream",
          "name": "stdout",
          "text": [
            "* * * * * * * * * * *\n",
            "\n",
            "* * * * * * * * * * *\n",
            "\n",
            "* * * * * * * * * * *\n",
            "\n",
            "* * * * * * * * * * *\n",
            "\n"
          ]
        }
      ]
    },
    {
      "cell_type": "code",
      "source": [
        "#BT3\n",
        "print('            *               \\n')\n",
        "print('          * * *              \\n')\n",
        "print('      * * * * * * *            \\n')\n",
        "print('          * * *              \\n')\n",
        "print('        * * * * *            \\n')\n",
        "print('  * * * * * * * * * * *           \\n')\n",
        "print('          *   *            \\n')\n",
        "print('          *   *            \\n')\n",
        "\n"
      ],
      "metadata": {
        "colab": {
          "base_uri": "https://localhost:8080/"
        },
        "id": "tJqL4D3ha910",
        "outputId": "310efe4b-6c3e-4627-e7c5-2e1746bbb5f7"
      },
      "execution_count": 3,
      "outputs": [
        {
          "output_type": "stream",
          "name": "stdout",
          "text": [
            "            *               \n",
            "\n",
            "          * * *              \n",
            "\n",
            "      * * * * * * *            \n",
            "\n",
            "          * * *              \n",
            "\n",
            "        * * * * *            \n",
            "\n",
            "  * * * * * * * * * * *           \n",
            "\n",
            "          *   *            \n",
            "\n",
            "          *   *            \n",
            "\n"
          ]
        }
      ]
    },
    {
      "cell_type": "code",
      "source": [
        "#BT4\n",
        "print('Chao cac ban!')\n",
        "#BT5\n",
        "print('Huỳnh Phú Lợi')"
      ],
      "metadata": {
        "colab": {
          "base_uri": "https://localhost:8080/"
        },
        "id": "cd_xLnb0a-wr",
        "outputId": "34700142-c21a-4d20-957f-b68bd2b1f40a"
      },
      "execution_count": 4,
      "outputs": [
        {
          "output_type": "stream",
          "name": "stdout",
          "text": [
            "Chao cac ban!\n",
            "Huỳnh Phú Lợi\n"
          ]
        }
      ]
    }
  ]
}