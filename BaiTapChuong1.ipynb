{
  "nbformat": 4,
  "nbformat_minor": 0,
  "metadata": {
    "colab": {
      "provenance": []
    },
    "kernelspec": {
      "name": "python3",
      "display_name": "Python 3"
    },
    "language_info": {
      "name": "python"
    }
  },
  "cells": [
    {
      "cell_type": "code",
      "execution_count": null,
      "metadata": {
        "colab": {
          "base_uri": "https://localhost:8080/"
        },
        "id": "4ySKVJ9EasIG",
        "outputId": "72c31776-6934-4f56-e448-522b8e76f9de"
      },
      "outputs": [
        {
          "output_type": "stream",
          "name": "stdout",
          "text": [
            "* * * *\n",
            "\n",
            "*     *\n",
            "\n",
            "*     *\n",
            "\n",
            "* * * *\n",
            "\n"
          ]
        }
      ],
      "source": [
        "#BT1\n",
        "print('* * * *\\n')\n",
        "print('*     *\\n')\n",
        "print('*     *\\n')\n",
        "print('* * * *\\n')"
      ]
    },
    {
      "cell_type": "code",
      "source": [
        "#BT2\n",
        "print('* * * * * * * * * * *\\n')\n",
        "print('* * * * * * * * * * *\\n')\n",
        "print('* * * * * * * * * * *\\n')\n",
        "print('* * * * * * * * * * *\\n')"
      ],
      "metadata": {
        "colab": {
          "base_uri": "https://localhost:8080/"
        },
        "id": "LzyJXJ2hauqL",
        "outputId": "504da216-3cc1-4c17-8bb7-2129a4a139f6"
      },
      "execution_count": null,
      "outputs": [
        {
          "output_type": "stream",
          "name": "stdout",
          "text": [
            "* * * * * * * * * * *\n",
            "\n",
            "* * * * * * * * * * *\n",
            "\n",
            "* * * * * * * * * * *\n",
            "\n",
            "* * * * * * * * * * *\n",
            "\n"
          ]
        }
      ]
    },
    {
      "cell_type": "code",
      "source": [
        "#BT3\n",
        "print('            *               \\n')\n",
        "print('          * * *              \\n')\n",
        "print('      * * * * * * *            \\n')\n",
        "print('          * * *              \\n')\n",
        "print('        * * * * *            \\n')\n",
        "print('  * * * * * * * * * * *           \\n')\n",
        "print('          *   *            \\n')\n",
        "print('          *   *            \\n')\n",
        "\n"
      ],
      "metadata": {
        "colab": {
          "base_uri": "https://localhost:8080/"
        },
        "id": "tJqL4D3ha910",
        "outputId": "310efe4b-6c3e-4627-e7c5-2e1746bbb5f7"
      },
      "execution_count": null,
      "outputs": [
        {
          "output_type": "stream",
          "name": "stdout",
          "text": [
            "            *               \n",
            "\n",
            "          * * *              \n",
            "\n",
            "      * * * * * * *            \n",
            "\n",
            "          * * *              \n",
            "\n",
            "        * * * * *            \n",
            "\n",
            "  * * * * * * * * * * *           \n",
            "\n",
            "          *   *            \n",
            "\n",
            "          *   *            \n",
            "\n"
          ]
        }
      ]
    },
    {
      "cell_type": "code",
      "source": [
        "#BT4\n",
        "print('Chao cac ban!')\n",
        "#BT5\n",
        "print('Huỳnh Phú Lợi')"
      ],
      "metadata": {
        "colab": {
          "base_uri": "https://localhost:8080/"
        },
        "id": "cd_xLnb0a-wr",
        "outputId": "34700142-c21a-4d20-957f-b68bd2b1f40a"
      },
      "execution_count": null,
      "outputs": [
        {
          "output_type": "stream",
          "name": "stdout",
          "text": [
            "Chao cac ban!\n",
            "Huỳnh Phú Lợi\n"
          ]
        }
      ]
    },
    {
      "cell_type": "code",
      "source": [
        "#BT5\n",
        "print('Mình về mình có nhớ ta?')\n",
        "print('Mười lăm năm ấy thiết tha mặn nồng.')\n",
        "print('Mình về mình có nhớ không?')\n",
        "print('Nhìn cây nhớ núi, nhìn sông nhớ nguồn.')"
      ],
      "metadata": {
        "colab": {
          "base_uri": "https://localhost:8080/"
        },
        "id": "d3_mXEzXa04U",
        "outputId": "afc60ed1-4e62-4b73-8ed4-108355cbc777"
      },
      "execution_count": 2,
      "outputs": [
        {
          "output_type": "stream",
          "name": "stdout",
          "text": [
            "Mình về mình có nhớ ta?\n",
            "Mười lăm năm ấy thiết tha mặn nồng.\n",
            "Mình về mình có nhớ không?\n",
            "Nhìn cây nhớ núi, nhìn sông nhớ nguồn.\n"
          ]
        }
      ]
    },
    {
      "cell_type": "code",
      "source": [],
      "metadata": {
        "id": "H1tkF9zRbTBX"
      },
      "execution_count": null,
      "outputs": []
    },
    {
      "cell_type": "code",
      "metadata": {
        "colab": {
          "base_uri": "https://localhost:8080/"
        },
        "id": "3667f32a",
        "outputId": "988b82ca-b3a4-4bcc-d995-cd46b7eb5098"
      },
      "source": [
        "import sys\n",
        "\n",
        "if __name__ == \"__main__\":\n",
        "  if len(sys.argv) > 1:\n",
        "    # sys.argv[0] is the script name, so we start from sys.argv[1]\n",
        "    input_string = \" \".join(sys.argv[1:])\n",
        "    print(input_string)\n",
        "  else:\n",
        "    print(\"Vui lòng nhập chuỗi ký tự làm tham số dòng lệnh.\")"
      ],
      "execution_count": 6,
      "outputs": [
        {
          "output_type": "stream",
          "name": "stdout",
          "text": [
            "-f /root/.local/share/jupyter/runtime/kernel-07af5a86-61e3-441b-a8dd-b1eb13cf4843.json\n"
          ]
        }
      ]
    }
  ]
}