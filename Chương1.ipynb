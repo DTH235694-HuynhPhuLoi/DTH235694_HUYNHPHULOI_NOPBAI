{
  "nbformat": 4,
  "nbformat_minor": 0,
  "metadata": {
    "colab": {
      "provenance": []
    },
    "kernelspec": {
      "name": "python3",
      "display_name": "Python 3"
    },
    "language_info": {
      "name": "python"
    }
  },
  "cells": [
    {
      "cell_type": "code",
      "execution_count": 2,
      "metadata": {
        "colab": {
          "base_uri": "https://localhost:8080/"
        },
        "id": "nlTc0tYIQA7B",
        "outputId": "8becd0c6-c733-41d0-a847-26f957accb2a"
      },
      "outputs": [
        {
          "output_type": "stream",
          "name": "stdout",
          "text": [
            "Hello World!\n",
            "Albert Einstein đã từng nói: Một người không bao giờ mắc sai lầm không bao giờ thử bất kỳ điều gì mới\n"
          ]
        }
      ],
      "source": [
        "#VD1\n",
        "print('Hello World!')\n",
        "print('Albert Einstein đã từng nói: Một người không bao giờ mắc sai lầm không bao giờ thử bất kỳ điều gì mới')"
      ]
    },
    {
      "cell_type": "code",
      "source": [
        "#VD2\n",
        "if(5>2)\n",
        "print('Five is greater than two!')"
      ],
      "metadata": {
        "id": "fJF3N0IJQs5K"
      },
      "execution_count": null,
      "outputs": []
    },
    {
      "cell_type": "code",
      "source": [
        "#VD3\n",
        "total = 1 + \\\n",
        "2 + \\\n",
        "3\n",
        "print(total);\n",
        "print('Hello Python!')"
      ],
      "metadata": {
        "colab": {
          "base_uri": "https://localhost:8080/"
        },
        "id": "RiRbmPtCRFQw",
        "outputId": "8cb9732d-bc9d-40da-d6dd-45a92da73a4a"
      },
      "execution_count": 8,
      "outputs": [
        {
          "output_type": "stream",
          "name": "stdout",
          "text": [
            "6\n",
            "Hello Python!\n"
          ]
        }
      ]
    },
    {
      "cell_type": "code",
      "source": [
        "#VD4\n",
        "if True:\n",
        "  print('True')\n",
        "else:\n",
        "  print('False')"
      ],
      "metadata": {
        "colab": {
          "base_uri": "https://localhost:8080/"
        },
        "id": "DSYbqGsIRs7v",
        "outputId": "c6fe68fd-36de-4174-9ac6-c5379acfac92"
      },
      "execution_count": 4,
      "outputs": [
        {
          "output_type": "stream",
          "name": "stdout",
          "text": [
            "True\n"
          ]
        }
      ]
    },
    {
      "cell_type": "code",
      "source": [
        "#VD5\n",
        "import math\n",
        "import os\n"
      ],
      "metadata": {
        "id": "Fjj0IzsBSgmE"
      },
      "execution_count": 11,
      "outputs": []
    },
    {
      "cell_type": "code",
      "source": [
        "#VD6\n",
        "def add(a,b):\n",
        "  result=a+b\n",
        "  return result"
      ],
      "metadata": {
        "id": "z3TgELAVUH7f"
      },
      "execution_count": 12,
      "outputs": []
    },
    {
      "cell_type": "code",
      "source": [
        "#VD7\n",
        "import math_libs\n",
        "math_libs.add(1,2)"
      ],
      "metadata": {
        "colab": {
          "base_uri": "https://localhost:8080/",
          "height": 344
        },
        "id": "hSG_Je45UR-G",
        "outputId": "01ec420a-1357-465d-bdfe-5c7009a89182"
      },
      "execution_count": 17,
      "outputs": [
        {
          "output_type": "error",
          "ename": "ModuleNotFoundError",
          "evalue": "No module named 'math_libs'",
          "traceback": [
            "\u001b[0;31m---------------------------------------------------------------------------\u001b[0m",
            "\u001b[0;31mModuleNotFoundError\u001b[0m                       Traceback (most recent call last)",
            "\u001b[0;32m/tmp/ipython-input-1603101615.py\u001b[0m in \u001b[0;36m<cell line: 0>\u001b[0;34m()\u001b[0m\n\u001b[1;32m      1\u001b[0m \u001b[0;31m#VD7\u001b[0m\u001b[0;34m\u001b[0m\u001b[0;34m\u001b[0m\u001b[0m\n\u001b[0;32m----> 2\u001b[0;31m \u001b[0;32mimport\u001b[0m \u001b[0mmath_libs\u001b[0m \u001b[0;32mas\u001b[0m \u001b[0mml\u001b[0m\u001b[0;34m\u001b[0m\u001b[0;34m\u001b[0m\u001b[0m\n\u001b[0m\u001b[1;32m      3\u001b[0m \u001b[0mml\u001b[0m\u001b[0;34m.\u001b[0m\u001b[0madd\u001b[0m\u001b[0;34m(\u001b[0m\u001b[0;36m1\u001b[0m\u001b[0;34m,\u001b[0m\u001b[0;36m2\u001b[0m\u001b[0;34m)\u001b[0m\u001b[0;34m\u001b[0m\u001b[0;34m\u001b[0m\u001b[0m\n",
            "\u001b[0;31mModuleNotFoundError\u001b[0m: No module named 'math_libs'",
            "",
            "\u001b[0;31m---------------------------------------------------------------------------\u001b[0;32m\nNOTE: If your import is failing due to a missing package, you can\nmanually install dependencies using either !pip or !apt.\n\nTo view examples of installing some common dependencies, click the\n\"Open Examples\" button below.\n\u001b[0;31m---------------------------------------------------------------------------\u001b[0m\n"
          ],
          "errorDetails": {
            "actions": [
              {
                "action": "open_url",
                "actionText": "Open Examples",
                "url": "/notebooks/snippets/importing_libraries.ipynb"
              }
            ]
          }
        }
      ]
    },
    {
      "cell_type": "code",
      "metadata": {
        "colab": {
          "base_uri": "https://localhost:8080/"
        },
        "id": "3b5e9b03",
        "outputId": "6a3e559a-9ba9-451f-eade-25a07456be57"
      },
      "source": [
        "#VD8\n",
        "%%writefile module1.py\n",
        "question = 'What is the meaning of Life, the Universe, and Everything?'\n",
        "answer = 42"
      ],
      "execution_count": 23,
      "outputs": [
        {
          "output_type": "stream",
          "name": "stdout",
          "text": [
            "Overwriting module1.py\n"
          ]
        }
      ]
    },
    {
      "cell_type": "code",
      "metadata": {
        "colab": {
          "base_uri": "https://localhost:8080/"
        },
        "id": "cb2e4c8b",
        "outputId": "18981cdf-5ea4-4cfc-c7ae-3ea7c7b243b8"
      },
      "source": [
        "%%writefile module2.py\n",
        "question = 'What is your quest?'\n",
        "answer = 'To seek the holy grail.'"
      ],
      "execution_count": 24,
      "outputs": [
        {
          "output_type": "stream",
          "name": "stdout",
          "text": [
            "Overwriting module2.py\n"
          ]
        }
      ]
    },
    {
      "cell_type": "code",
      "metadata": {
        "colab": {
          "base_uri": "https://localhost:8080/"
        },
        "id": "7861cc7c",
        "outputId": "2b945f4e-906b-4f70-bf2a-b4218d01603b"
      },
      "source": [
        "import module1\n",
        "import module2\n",
        "\n",
        "print(module1.question)\n",
        "print(module2.question)\n",
        "print(module1.answer)\n",
        "print(module2.answer)"
      ],
      "execution_count": 25,
      "outputs": [
        {
          "output_type": "stream",
          "name": "stdout",
          "text": [
            "What is the meaning of Life, the Universe, and Everything?\n",
            "What is your quest?\n",
            "42\n",
            "To seek the holy grail.\n"
          ]
        }
      ]
    }
  ]
}